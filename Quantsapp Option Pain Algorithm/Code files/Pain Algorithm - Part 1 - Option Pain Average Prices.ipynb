{
 "cells": [
  {
   "cell_type": "markdown",
   "metadata": {},
   "source": [
    "# Reading Bhavcopy from the given bhavcopy.txt"
   ]
  },
  {
   "cell_type": "code",
   "execution_count": 1,
   "metadata": {},
   "outputs": [],
   "source": [
    "import pandas as pd\n",
    "import numpy as np\n",
    "import matplotlib.pyplot as plt\n",
    "from matplotlib import style\n",
    "import pandas_datareader.data as web\n",
    "import datetime as dt\n",
    "from datetime import date, time\n",
    "import os \n",
    "import struct\n",
    "\n",
    "\n",
    "f = open('C:\\\\Users\\\\a\\\\Desktop\\\\Mohit Project\\\\faomktstats20180516.txt', 'rb') #Enter the file path\n",
    "b = bytearray(f.read())\n",
    "f.close()\n",
    " \n",
    "\n",
    "i = 0\n",
    "instrument = list()\n",
    "oi = list()\n",
    "oi_change = list()\n",
    "close_price = []\n",
    "\n",
    "\n",
    "while True:\n",
    "    try:\n",
    "        data = struct.unpack('<6s10s11s10s2s1s10s10s10s10s10s10s10s12s25s10s10s', b[i:i+167])  # Data structure\n",
    "        strike = str(float(data[3].strip()))\n",
    "        expiry_date = dt.datetime.strptime(bytes(data[2].strip()).decode('ascii'), '%d-%m-%Y')\n",
    "        expiry_date = dt.datetime.strftime(expiry_date, '%d-%b-%Y')\n",
    "        instrument.append(bytes(data[1].strip()).decode('ascii') + '_' + expiry_date + '_' + strike + '_' + bytes(data[4]).decode('ascii'))\n",
    "        oi.append(bytes(data[15].strip()).decode('ascii'))\n",
    "        oi_change.append(bytes(data[16].strip()).decode('ascii'))\n",
    "        close_price.append(float(data[9].strip()))\n",
    "        i += 169\n",
    "    except:\n",
    "        break\n",
    "\n",
    "rows= zip(instrument, oi, close_price)\n",
    "\n",
    "import csv\n",
    "\n",
    "with open('C:\\\\Users\\\\a\\\\Desktop\\\\Mohit Project\\\\bhavcopy_from_text.csv', \"w\", newline = \"\") as f: #Enter the bhavcopy file path here\n",
    "    bhavcopy_directory = ('C:\\\\Users\\\\a\\\\Desktop\\\\Mohit Project\\\\')\n",
    "    writer = csv.writer(f)\n",
    "    writer.writerow((\"INSTRUMENT\",\"OI\",\"CLOSE\"))\n",
    "    for row in rows:\n",
    "        writer.writerow(row)\n",
    "f.close()\n",
    "\n",
    " "
   ]
  },
  {
   "cell_type": "code",
   "execution_count": 2,
   "metadata": {},
   "outputs": [],
   "source": [
    "os.chdir(bhavcopy_directory)\n",
    "bhavcopy_from_text = pd.read_csv('bhavcopy_from_text.csv')"
   ]
  },
  {
   "cell_type": "code",
   "execution_count": 3,
   "metadata": {},
   "outputs": [
    {
     "data": {
      "text/html": [
       "<div>\n",
       "<style scoped>\n",
       "    .dataframe tbody tr th:only-of-type {\n",
       "        vertical-align: middle;\n",
       "    }\n",
       "\n",
       "    .dataframe tbody tr th {\n",
       "        vertical-align: top;\n",
       "    }\n",
       "\n",
       "    .dataframe thead th {\n",
       "        text-align: right;\n",
       "    }\n",
       "</style>\n",
       "<table border=\"1\" class=\"dataframe\">\n",
       "  <thead>\n",
       "    <tr style=\"text-align: right;\">\n",
       "      <th></th>\n",
       "      <th>INSTRUMENT</th>\n",
       "      <th>OI</th>\n",
       "      <th>CLOSE</th>\n",
       "    </tr>\n",
       "  </thead>\n",
       "  <tbody>\n",
       "    <tr>\n",
       "      <th>0</th>\n",
       "      <td>NIFTYCPSE_17-May-2018_2225.0_CE</td>\n",
       "      <td>0</td>\n",
       "      <td>205.85</td>\n",
       "    </tr>\n",
       "    <tr>\n",
       "      <th>1</th>\n",
       "      <td>NIFTYCPSE_17-May-2018_2675.0_PE</td>\n",
       "      <td>0</td>\n",
       "      <td>157.90</td>\n",
       "    </tr>\n",
       "    <tr>\n",
       "      <th>2</th>\n",
       "      <td>NIFTYCPSE_17-May-2018_2250.0_CE</td>\n",
       "      <td>0</td>\n",
       "      <td>208.30</td>\n",
       "    </tr>\n",
       "    <tr>\n",
       "      <th>3</th>\n",
       "      <td>NIFTYCPSE_17-May-2018_2250.0_PE</td>\n",
       "      <td>0</td>\n",
       "      <td>21.25</td>\n",
       "    </tr>\n",
       "    <tr>\n",
       "      <th>4</th>\n",
       "      <td>NIFTYCPSE_17-May-2018_2275.0_CE</td>\n",
       "      <td>0</td>\n",
       "      <td>188.95</td>\n",
       "    </tr>\n",
       "  </tbody>\n",
       "</table>\n",
       "</div>"
      ],
      "text/plain": [
       "                        INSTRUMENT  OI   CLOSE\n",
       "0  NIFTYCPSE_17-May-2018_2225.0_CE   0  205.85\n",
       "1  NIFTYCPSE_17-May-2018_2675.0_PE   0  157.90\n",
       "2  NIFTYCPSE_17-May-2018_2250.0_CE   0  208.30\n",
       "3  NIFTYCPSE_17-May-2018_2250.0_PE   0   21.25\n",
       "4  NIFTYCPSE_17-May-2018_2275.0_CE   0  188.95"
      ]
     },
     "execution_count": 3,
     "metadata": {},
     "output_type": "execute_result"
    }
   ],
   "source": [
    "bhavcopy_from_text.head()"
   ]
  },
  {
   "cell_type": "code",
   "execution_count": 4,
   "metadata": {},
   "outputs": [
    {
     "data": {
      "text/html": [
       "<div>\n",
       "<style scoped>\n",
       "    .dataframe tbody tr th:only-of-type {\n",
       "        vertical-align: middle;\n",
       "    }\n",
       "\n",
       "    .dataframe tbody tr th {\n",
       "        vertical-align: top;\n",
       "    }\n",
       "\n",
       "    .dataframe thead th {\n",
       "        text-align: right;\n",
       "    }\n",
       "</style>\n",
       "<table border=\"1\" class=\"dataframe\">\n",
       "  <thead>\n",
       "    <tr style=\"text-align: right;\">\n",
       "      <th></th>\n",
       "      <th>INSTRUMENT</th>\n",
       "      <th>OI</th>\n",
       "      <th>CLOSE</th>\n",
       "      <th>EXPIRY_DT</th>\n",
       "    </tr>\n",
       "  </thead>\n",
       "  <tbody>\n",
       "    <tr>\n",
       "      <th>0</th>\n",
       "      <td>NIFTYCPSE_17-May-2018_2225.0_CE</td>\n",
       "      <td>0</td>\n",
       "      <td>205.85</td>\n",
       "      <td>17-May-2018</td>\n",
       "    </tr>\n",
       "    <tr>\n",
       "      <th>1</th>\n",
       "      <td>NIFTYCPSE_17-May-2018_2675.0_PE</td>\n",
       "      <td>0</td>\n",
       "      <td>157.90</td>\n",
       "      <td>17-May-2018</td>\n",
       "    </tr>\n",
       "    <tr>\n",
       "      <th>2</th>\n",
       "      <td>NIFTYCPSE_17-May-2018_2250.0_CE</td>\n",
       "      <td>0</td>\n",
       "      <td>208.30</td>\n",
       "      <td>17-May-2018</td>\n",
       "    </tr>\n",
       "    <tr>\n",
       "      <th>3</th>\n",
       "      <td>NIFTYCPSE_17-May-2018_2250.0_PE</td>\n",
       "      <td>0</td>\n",
       "      <td>21.25</td>\n",
       "      <td>17-May-2018</td>\n",
       "    </tr>\n",
       "    <tr>\n",
       "      <th>4</th>\n",
       "      <td>NIFTYCPSE_17-May-2018_2275.0_CE</td>\n",
       "      <td>0</td>\n",
       "      <td>188.95</td>\n",
       "      <td>17-May-2018</td>\n",
       "    </tr>\n",
       "  </tbody>\n",
       "</table>\n",
       "</div>"
      ],
      "text/plain": [
       "                        INSTRUMENT  OI   CLOSE    EXPIRY_DT\n",
       "0  NIFTYCPSE_17-May-2018_2225.0_CE   0  205.85  17-May-2018\n",
       "1  NIFTYCPSE_17-May-2018_2675.0_PE   0  157.90  17-May-2018\n",
       "2  NIFTYCPSE_17-May-2018_2250.0_CE   0  208.30  17-May-2018\n",
       "3  NIFTYCPSE_17-May-2018_2250.0_PE   0   21.25  17-May-2018\n",
       "4  NIFTYCPSE_17-May-2018_2275.0_CE   0  188.95  17-May-2018"
      ]
     },
     "execution_count": 4,
     "metadata": {},
     "output_type": "execute_result"
    }
   ],
   "source": [
    "bhavcopy_from_text['EXPIRY_DT'] = bhavcopy_from_text['INSTRUMENT'].apply(lambda x: x.split(\"_\")[1])\n",
    "bhavcopy_from_text.head()"
   ]
  },
  {
   "cell_type": "code",
   "execution_count": 5,
   "metadata": {},
   "outputs": [],
   "source": [
    "pd.options.mode.chained_assignment = None  #Turning off the 'SettingWithCopyWarning'"
   ]
  },
  {
   "cell_type": "markdown",
   "metadata": {},
   "source": [
    "# Reading the security file (Scrip Codes , KEY) "
   ]
  },
  {
   "cell_type": "code",
   "execution_count": 6,
   "metadata": {},
   "outputs": [],
   "source": [
    "os.chdir('C:\\\\Users\\\\a\\\\Desktop\\\\Mohit Project')"
   ]
  },
  {
   "cell_type": "code",
   "execution_count": 7,
   "metadata": {},
   "outputs": [],
   "source": [
    "import datetime\n",
    "import os \n",
    "import struct"
   ]
  },
  {
   "cell_type": "code",
   "execution_count": 8,
   "metadata": {},
   "outputs": [],
   "source": [
    "f = open('C:\\\\Users\\\\a\\\\Desktop\\\\Mohit Project\\\\Securities.dat' , 'rb') #Enter the file path\n",
    "b = bytearray(f.read())\n",
    "f.close()\n",
    "\n",
    "# Make lists to store values\n",
    "scrip_code = list()\n",
    "instrument = list()\n",
    "short_code = list()\n",
    "opt_type = list()\n",
    "strikes = list()\n",
    "ttl_time = list()\n",
    "i = 0\n",
    "# Loop through values\n",
    "seconds_toadd = 315599400\n",
    "while True:\n",
    "    try:\n",
    "        data = struct.unpack('<hlhl6s10s2s2sllllll25sllllll25s1s1s', b[i:i+132])  # Data structure\n",
    "    \n",
    "        if data[7] != 'XX' and data[5].strip() != '':\n",
    "            \n",
    "            \n",
    "            scrip_code.append(data[3])\n",
    "            start_date = dt.datetime.strptime('01-01-1980', '%d-%m-%Y')         \n",
    "            ttl_time.append(int(data[8] + seconds_toadd))\n",
    "            expiry_date = dt.datetime.strftime(start_date + dt.timedelta(seconds=int(data[8])), '%d-%b-%Y')\n",
    "            strike = str(float(data[9]) / 100)\n",
    "            instrument.append(bytes(data[5].strip()).decode('ascii') + '_' + expiry_date + '_' + strike + '_' + bytes(data[7]).decode('ascii'))\n",
    "            short_code.append(bytes(data[5].strip()).decode('ascii') + '_' + expiry_date)\n",
    "            strikes.append(strike)\n",
    "            opt_type.append(bytes(data[7].strip()).decode('ascii'))\n",
    "            \n",
    "        i += 132\n",
    "    except:\n",
    "        \n",
    "        break\n",
    "\n",
    "rows= zip(scrip_code, ttl_time, instrument, short_code, strikes, opt_type)\n",
    "import csv\n",
    "\n",
    "with open('C:\\\\Users\\\\a\\\\Desktop\\\\Mohit Project\\\\SECDATA3.csv', \"w\",newline='') as f: #enter the security file path \n",
    "    writer = csv.writer(f)\n",
    "    writer.writerow((\"SCRIP_CODE\",\"TTL_TIME\",\"INSTRUMENT\",\"SHORT_CODE\",\"STRIKES\",\"OPT_TYP\"))\n",
    "    for row in rows:\n",
    "        writer.writerow(row),\n",
    "f.close()\n",
    "\n"
   ]
  },
  {
   "cell_type": "code",
   "execution_count": 9,
   "metadata": {
    "scrolled": true
   },
   "outputs": [
    {
     "data": {
      "text/html": [
       "<div>\n",
       "<style scoped>\n",
       "    .dataframe tbody tr th:only-of-type {\n",
       "        vertical-align: middle;\n",
       "    }\n",
       "\n",
       "    .dataframe tbody tr th {\n",
       "        vertical-align: top;\n",
       "    }\n",
       "\n",
       "    .dataframe thead th {\n",
       "        text-align: right;\n",
       "    }\n",
       "</style>\n",
       "<table border=\"1\" class=\"dataframe\">\n",
       "  <thead>\n",
       "    <tr style=\"text-align: right;\">\n",
       "      <th></th>\n",
       "      <th>SCRIP_CODE</th>\n",
       "      <th>TTL_TIME</th>\n",
       "      <th>INSTRUMENT</th>\n",
       "      <th>SHORT_CODE</th>\n",
       "      <th>STRIKES</th>\n",
       "      <th>OPT_TYP</th>\n",
       "    </tr>\n",
       "  </thead>\n",
       "  <tbody>\n",
       "    <tr>\n",
       "      <th>0</th>\n",
       "      <td>35000</td>\n",
       "      <td>315599400</td>\n",
       "      <td>_01-Jan-1980_0.0_</td>\n",
       "      <td>_01-Jan-1980</td>\n",
       "      <td>0.0</td>\n",
       "      <td>NaN</td>\n",
       "    </tr>\n",
       "    <tr>\n",
       "      <th>1</th>\n",
       "      <td>35001</td>\n",
       "      <td>315599400</td>\n",
       "      <td>_01-Jan-1980_0.0_</td>\n",
       "      <td>_01-Jan-1980</td>\n",
       "      <td>0.0</td>\n",
       "      <td>NaN</td>\n",
       "    </tr>\n",
       "    <tr>\n",
       "      <th>2</th>\n",
       "      <td>35002</td>\n",
       "      <td>1609491600</td>\n",
       "      <td>NIFTY_31-Dec-2020_10400.0_CE</td>\n",
       "      <td>NIFTY_31-Dec-2020</td>\n",
       "      <td>10400.0</td>\n",
       "      <td>CE</td>\n",
       "    </tr>\n",
       "    <tr>\n",
       "      <th>3</th>\n",
       "      <td>35003</td>\n",
       "      <td>1609491600</td>\n",
       "      <td>NIFTY_31-Dec-2020_10400.0_PE</td>\n",
       "      <td>NIFTY_31-Dec-2020</td>\n",
       "      <td>10400.0</td>\n",
       "      <td>PE</td>\n",
       "    </tr>\n",
       "    <tr>\n",
       "      <th>4</th>\n",
       "      <td>35004</td>\n",
       "      <td>315599400</td>\n",
       "      <td>_01-Jan-1980_0.0_</td>\n",
       "      <td>_01-Jan-1980</td>\n",
       "      <td>0.0</td>\n",
       "      <td>NaN</td>\n",
       "    </tr>\n",
       "  </tbody>\n",
       "</table>\n",
       "</div>"
      ],
      "text/plain": [
       "   SCRIP_CODE    TTL_TIME                    INSTRUMENT         SHORT_CODE  \\\n",
       "0       35000   315599400           _01-Jan-1980_0.0_         _01-Jan-1980   \n",
       "1       35001   315599400           _01-Jan-1980_0.0_         _01-Jan-1980   \n",
       "2       35002  1609491600  NIFTY_31-Dec-2020_10400.0_CE  NIFTY_31-Dec-2020   \n",
       "3       35003  1609491600  NIFTY_31-Dec-2020_10400.0_PE  NIFTY_31-Dec-2020   \n",
       "4       35004   315599400           _01-Jan-1980_0.0_         _01-Jan-1980   \n",
       "\n",
       "   STRIKES OPT_TYP  \n",
       "0      0.0     NaN  \n",
       "1      0.0     NaN  \n",
       "2  10400.0      CE  \n",
       "3  10400.0      PE  \n",
       "4      0.0     NaN  "
      ]
     },
     "execution_count": 9,
     "metadata": {},
     "output_type": "execute_result"
    }
   ],
   "source": [
    "security_file = pd.read_csv('SECDATA3.csv')\n",
    "security_file.head()"
   ]
  },
  {
   "cell_type": "markdown",
   "metadata": {},
   "source": [
    "# Processing the security file"
   ]
  },
  {
   "cell_type": "code",
   "execution_count": 10,
   "metadata": {},
   "outputs": [],
   "source": [
    "def process_security_file(file):\n",
    "    df = pd.read_csv(file)  #read from the running file called 'SECDATA.csv' , stored locally \n",
    "    df.drop(['SHORT_CODE','STRIKES','OPT_TYP','TTL_TIME'],axis = 1,  inplace = True) #drop the redundant columns\n",
    "    df = df[df['INSTRUMENT'].str.contains('_01-Jan-80_0.0_') == False]\n",
    "    df.rename(index = str, columns = {'INSTRUMENT': 'KEY'}, inplace = True)\n",
    "    \n",
    "    #df = df.merge('The working file', how = 'outer', on = 'KEY')\n",
    "    df =df.sort_values(by = 'KEY')\n",
    "    #df = df[np.isfinite(df['CLOSE_0'])] #dropping the expired dates' rows\n",
    "    df.to_csv(file, index = False)\n",
    "    return df\n",
    "\n"
   ]
  },
  {
   "cell_type": "code",
   "execution_count": 11,
   "metadata": {
    "scrolled": true
   },
   "outputs": [
    {
     "data": {
      "text/html": [
       "<div>\n",
       "<style scoped>\n",
       "    .dataframe tbody tr th:only-of-type {\n",
       "        vertical-align: middle;\n",
       "    }\n",
       "\n",
       "    .dataframe tbody tr th {\n",
       "        vertical-align: top;\n",
       "    }\n",
       "\n",
       "    .dataframe thead th {\n",
       "        text-align: right;\n",
       "    }\n",
       "</style>\n",
       "<table border=\"1\" class=\"dataframe\">\n",
       "  <thead>\n",
       "    <tr style=\"text-align: right;\">\n",
       "      <th></th>\n",
       "      <th>SCRIP_CODE</th>\n",
       "      <th>KEY</th>\n",
       "    </tr>\n",
       "  </thead>\n",
       "  <tbody>\n",
       "    <tr>\n",
       "      <th>9510</th>\n",
       "      <td>45139</td>\n",
       "      <td>ACC_26-Jul-2018_-0.01_XX</td>\n",
       "    </tr>\n",
       "    <tr>\n",
       "      <th>8185</th>\n",
       "      <td>43185</td>\n",
       "      <td>ACC_26-Jul-2018_1000.0_CE</td>\n",
       "    </tr>\n",
       "    <tr>\n",
       "      <th>8187</th>\n",
       "      <td>43187</td>\n",
       "      <td>ACC_26-Jul-2018_1000.0_PE</td>\n",
       "    </tr>\n",
       "    <tr>\n",
       "      <th>6921</th>\n",
       "      <td>41921</td>\n",
       "      <td>ACC_26-Jul-2018_1020.0_CE</td>\n",
       "    </tr>\n",
       "    <tr>\n",
       "      <th>6922</th>\n",
       "      <td>41922</td>\n",
       "      <td>ACC_26-Jul-2018_1020.0_PE</td>\n",
       "    </tr>\n",
       "  </tbody>\n",
       "</table>\n",
       "</div>"
      ],
      "text/plain": [
       "      SCRIP_CODE                        KEY\n",
       "9510       45139   ACC_26-Jul-2018_-0.01_XX\n",
       "8185       43185  ACC_26-Jul-2018_1000.0_CE\n",
       "8187       43187  ACC_26-Jul-2018_1000.0_PE\n",
       "6921       41921  ACC_26-Jul-2018_1020.0_CE\n",
       "6922       41922  ACC_26-Jul-2018_1020.0_PE"
      ]
     },
     "execution_count": 11,
     "metadata": {},
     "output_type": "execute_result"
    }
   ],
   "source": [
    "security = process_security_file('SECDATA3.csv')\n",
    "\n",
    "security.head()"
   ]
  },
  {
   "cell_type": "markdown",
   "metadata": {},
   "source": [
    "# Reading the current date\n"
   ]
  },
  {
   "cell_type": "code",
   "execution_count": 12,
   "metadata": {},
   "outputs": [
    {
     "data": {
      "text/plain": [
       "'06-Jun-2018'"
      ]
     },
     "execution_count": 12,
     "metadata": {},
     "output_type": "execute_result"
    }
   ],
   "source": [
    "import datetime\n",
    "current_date = datetime.datetime.today().date()\n",
    "current_date = datetime.datetime.strftime(current_date, format = '%d-%b-%Y')\n",
    "current_date"
   ]
  },
  {
   "cell_type": "markdown",
   "metadata": {},
   "source": [
    "# Updating the Bhavcopy file with Scrip_codes"
   ]
  },
  {
   "cell_type": "code",
   "execution_count": 14,
   "metadata": {},
   "outputs": [
    {
     "data": {
      "text/html": [
       "<div>\n",
       "<style scoped>\n",
       "    .dataframe tbody tr th:only-of-type {\n",
       "        vertical-align: middle;\n",
       "    }\n",
       "\n",
       "    .dataframe tbody tr th {\n",
       "        vertical-align: top;\n",
       "    }\n",
       "\n",
       "    .dataframe thead th {\n",
       "        text-align: right;\n",
       "    }\n",
       "</style>\n",
       "<table border=\"1\" class=\"dataframe\">\n",
       "  <thead>\n",
       "    <tr style=\"text-align: right;\">\n",
       "      <th></th>\n",
       "      <th>KEY</th>\n",
       "      <th>OI</th>\n",
       "      <th>CLOSE</th>\n",
       "      <th>EXPIRY_DT</th>\n",
       "    </tr>\n",
       "  </thead>\n",
       "  <tbody>\n",
       "    <tr>\n",
       "      <th>0</th>\n",
       "      <td>NIFTYCPSE_17-May-2018_2225.0_CE</td>\n",
       "      <td>0</td>\n",
       "      <td>205.85</td>\n",
       "      <td>17-May-2018</td>\n",
       "    </tr>\n",
       "    <tr>\n",
       "      <th>1</th>\n",
       "      <td>NIFTYCPSE_17-May-2018_2675.0_PE</td>\n",
       "      <td>0</td>\n",
       "      <td>157.90</td>\n",
       "      <td>17-May-2018</td>\n",
       "    </tr>\n",
       "    <tr>\n",
       "      <th>2</th>\n",
       "      <td>NIFTYCPSE_17-May-2018_2250.0_CE</td>\n",
       "      <td>0</td>\n",
       "      <td>208.30</td>\n",
       "      <td>17-May-2018</td>\n",
       "    </tr>\n",
       "    <tr>\n",
       "      <th>3</th>\n",
       "      <td>NIFTYCPSE_17-May-2018_2250.0_PE</td>\n",
       "      <td>0</td>\n",
       "      <td>21.25</td>\n",
       "      <td>17-May-2018</td>\n",
       "    </tr>\n",
       "    <tr>\n",
       "      <th>4</th>\n",
       "      <td>NIFTYCPSE_17-May-2018_2275.0_CE</td>\n",
       "      <td>0</td>\n",
       "      <td>188.95</td>\n",
       "      <td>17-May-2018</td>\n",
       "    </tr>\n",
       "  </tbody>\n",
       "</table>\n",
       "</div>"
      ],
      "text/plain": [
       "                               KEY  OI   CLOSE    EXPIRY_DT\n",
       "0  NIFTYCPSE_17-May-2018_2225.0_CE   0  205.85  17-May-2018\n",
       "1  NIFTYCPSE_17-May-2018_2675.0_PE   0  157.90  17-May-2018\n",
       "2  NIFTYCPSE_17-May-2018_2250.0_CE   0  208.30  17-May-2018\n",
       "3  NIFTYCPSE_17-May-2018_2250.0_PE   0   21.25  17-May-2018\n",
       "4  NIFTYCPSE_17-May-2018_2275.0_CE   0  188.95  17-May-2018"
      ]
     },
     "execution_count": 14,
     "metadata": {},
     "output_type": "execute_result"
    }
   ],
   "source": [
    "bhavcopy_from_text.rename(columns = {'INSTRUMENT':'KEY'}, inplace = True)\n",
    "bhavcopy_from_text.head()"
   ]
  },
  {
   "cell_type": "code",
   "execution_count": 15,
   "metadata": {},
   "outputs": [
    {
     "data": {
      "text/html": [
       "<div>\n",
       "<style scoped>\n",
       "    .dataframe tbody tr th:only-of-type {\n",
       "        vertical-align: middle;\n",
       "    }\n",
       "\n",
       "    .dataframe tbody tr th {\n",
       "        vertical-align: top;\n",
       "    }\n",
       "\n",
       "    .dataframe thead th {\n",
       "        text-align: right;\n",
       "    }\n",
       "</style>\n",
       "<table border=\"1\" class=\"dataframe\">\n",
       "  <thead>\n",
       "    <tr style=\"text-align: right;\">\n",
       "      <th></th>\n",
       "      <th>KEY</th>\n",
       "      <th>OI</th>\n",
       "      <th>CLOSE</th>\n",
       "      <th>EXPIRY_DT</th>\n",
       "      <th>SCRIP_CODE</th>\n",
       "    </tr>\n",
       "  </thead>\n",
       "  <tbody>\n",
       "    <tr>\n",
       "      <th>0</th>\n",
       "      <td>NIFTYCPSE_17-May-2018_2225.0_CE</td>\n",
       "      <td>0.0</td>\n",
       "      <td>205.85</td>\n",
       "      <td>17-May-2018</td>\n",
       "      <td>NaN</td>\n",
       "    </tr>\n",
       "    <tr>\n",
       "      <th>1</th>\n",
       "      <td>NIFTYCPSE_17-May-2018_2675.0_PE</td>\n",
       "      <td>0.0</td>\n",
       "      <td>157.90</td>\n",
       "      <td>17-May-2018</td>\n",
       "      <td>NaN</td>\n",
       "    </tr>\n",
       "    <tr>\n",
       "      <th>2</th>\n",
       "      <td>NIFTYCPSE_17-May-2018_2250.0_CE</td>\n",
       "      <td>0.0</td>\n",
       "      <td>208.30</td>\n",
       "      <td>17-May-2018</td>\n",
       "      <td>NaN</td>\n",
       "    </tr>\n",
       "    <tr>\n",
       "      <th>3</th>\n",
       "      <td>NIFTYCPSE_17-May-2018_2250.0_PE</td>\n",
       "      <td>0.0</td>\n",
       "      <td>21.25</td>\n",
       "      <td>17-May-2018</td>\n",
       "      <td>NaN</td>\n",
       "    </tr>\n",
       "    <tr>\n",
       "      <th>4</th>\n",
       "      <td>NIFTYCPSE_17-May-2018_2275.0_CE</td>\n",
       "      <td>0.0</td>\n",
       "      <td>188.95</td>\n",
       "      <td>17-May-2018</td>\n",
       "      <td>NaN</td>\n",
       "    </tr>\n",
       "  </tbody>\n",
       "</table>\n",
       "</div>"
      ],
      "text/plain": [
       "                               KEY   OI   CLOSE    EXPIRY_DT  SCRIP_CODE\n",
       "0  NIFTYCPSE_17-May-2018_2225.0_CE  0.0  205.85  17-May-2018         NaN\n",
       "1  NIFTYCPSE_17-May-2018_2675.0_PE  0.0  157.90  17-May-2018         NaN\n",
       "2  NIFTYCPSE_17-May-2018_2250.0_CE  0.0  208.30  17-May-2018         NaN\n",
       "3  NIFTYCPSE_17-May-2018_2250.0_PE  0.0   21.25  17-May-2018         NaN\n",
       "4  NIFTYCPSE_17-May-2018_2275.0_CE  0.0  188.95  17-May-2018         NaN"
      ]
     },
     "execution_count": 15,
     "metadata": {},
     "output_type": "execute_result"
    }
   ],
   "source": [
    "bhavcopy_from_text = pd.merge(bhavcopy_from_text , security , on = 'KEY' , how = 'outer')\n",
    "#bhavcopy_from_text.drop('SCRIP_CODE', axis = 1,  inplace= True)\n",
    "bhavcopy_from_text.head()"
   ]
  },
  {
   "cell_type": "code",
   "execution_count": 16,
   "metadata": {},
   "outputs": [],
   "source": [
    "bhavcopy_from_text.to_csv('bhavcopy_from_text.csv')"
   ]
  },
  {
   "cell_type": "markdown",
   "metadata": {},
   "source": [
    "# Reading the OI from the .ind file\n"
   ]
  },
  {
   "cell_type": "code",
   "execution_count": 17,
   "metadata": {},
   "outputs": [],
   "source": [
    "import csv\n",
    "import gzip\n"
   ]
  },
  {
   "cell_type": "code",
   "execution_count": 18,
   "metadata": {},
   "outputs": [],
   "source": [
    "from scipy import stats"
   ]
  },
  {
   "cell_type": "code",
   "execution_count": 19,
   "metadata": {},
   "outputs": [],
   "source": [
    "#import shutil \n"
   ]
  },
  {
   "cell_type": "code",
   "execution_count": 20,
   "metadata": {},
   "outputs": [],
   "source": [
    "flist_ind_files = []   #Creating list of .ind files\n",
    "flist_sec_files = []   #creating list of .sec files"
   ]
  },
  {
   "cell_type": "code",
   "execution_count": 22,
   "metadata": {},
   "outputs": [
    {
     "name": "stdout",
     "output_type": "stream",
     "text": [
      "File working on: 1.ind.gz\n",
      "File 1.ind.gz is empty\n",
      "0\n",
      "File working on: 2.ind.gz\n",
      "1777\n",
      "File working on: 3.ind.gz\n",
      "1875\n",
      "File working on: 4.ind.gz\n",
      "1851\n",
      "File working on: 5.ind.gz\n",
      "1892\n",
      "File working on: 6.ind.gz\n",
      "1800\n",
      "['1.ind.gz', '1.ind.gz', '2.ind.gz', '3.ind.gz', '4.ind.gz', '5.ind.gz', '6.ind.gz']\n"
     ]
    }
   ],
   "source": [
    "os.chdir('C:\\\\Users\\\\a\\\\Desktop\\\\Mohit Project\\\\Data to be read\\\\DATA\\\\May172018\\\\')\n",
    "flist1 = [file for file in os.listdir('C:\\\\Users\\\\a\\\\Desktop\\\\Mohit Project\\\\Data to be read\\\\DATA\\\\May172018\\\\') if file.endswith('.ind.gz')]\n",
    "\n",
    "for file in flist1:\n",
    "    flist_ind_files.append(str(file))\n",
    "    print(\"File working on: {}\".format(file))\n",
    "    \n",
    "    f = gzip.open('C:\\\\Users\\\\a\\\\Desktop\\\\Mohit Project\\\\Data to be read\\\\DATA\\\\May172018\\\\' + str(file) , 'rb') #Enter the file path\n",
    "    b = bytearray(f.read())\n",
    "    f.close()\n",
    "    #shutil.move(\"C:\\\\Users\\\\a\\\\Desktop\\\\Mohit Project\\\\Data to be read\\\\DATA\\\\May172018\\\\\"+str(file), \"C:\\\\Users\\\\a\\\\Desktop\\\\Mohit Project\\\\Data to be read\\\\DATA\\\\May172018\\\\Data read\")\n",
    "    #print(\"Moving file:{}\".format(str(file)))\n",
    "    \n",
    "    scripCodes = list()\n",
    "    oi = list()\n",
    "    instrument = list()\n",
    "    \n",
    "   \n",
    "    c5 = list()\n",
    "    c6 = list()\n",
    "    expiry_date = list()\n",
    "    c8 = list()\n",
    "    c9 = list()\n",
    "    c10 = list()\n",
    "    c11 = list()\n",
    "    c13 = list()\n",
    "    i = 0\n",
    "    data_time = 0  \n",
    "      \n",
    "    while True:\n",
    "            \n",
    "            try:\n",
    "                data = struct.unpack('<hlhcl6s10s11s10s2s10schc', b[i:i+66])\n",
    "                data_time = max(data[1], data_time)  # For getting time of data as max within file\n",
    "                oi.append(float(data[10].strip()))\n",
    "                scripCodes.append(data[4])\n",
    "                #c5.append(bytes(data[5].strip()).decode('ascii'))\n",
    "                #c6.append(bytes(data[6].strip()).decode('ascii'))\n",
    "                expiry_date.append(bytes(data[7].strip()).decode('ascii'))\n",
    "                #c8.append(float(data[8].strip()))\n",
    "                #c9.append(bytes(data[9].strip()).decode('ascii'))\n",
    "                \n",
    "                \n",
    "                i += 66\n",
    "                \n",
    "            except:\n",
    "                \n",
    "                \"except block run\"\n",
    "                break\n",
    "    #Checking if the file is zero size \n",
    "    if len(oi) == 0:\n",
    "        print(\"File {} is empty\".format(file))\n",
    "    print(len(oi))    \n",
    "    rows= zip(scripCodes, oi,expiry_date)\n",
    "   \n",
    "   \n",
    "            \n",
    "    with open('C:\\\\Users\\\\a\\\\Desktop\\\\Mohit Project\\\\Files read\\\\'+str(file)+'.csv', \"w\", newline = \"\") as f: #Enter the file path\n",
    "        #print(\"Writing\")\n",
    "        writer = csv.writer(f)\n",
    "        writer.writerow((\"SCRIP_CODE\",\"OI\",\"EXPIRY_DT\"))\n",
    "        \n",
    "        for row in rows:\n",
    "            writer.writerow(row)\n",
    "            \n",
    "    f.close()\n",
    "\n",
    "print(flist_ind_files)    "
   ]
  },
  {
   "cell_type": "markdown",
   "metadata": {},
   "source": [
    "# Reading the Close price and scrip codes from the '.sec' file"
   ]
  },
  {
   "cell_type": "code",
   "execution_count": 24,
   "metadata": {
    "scrolled": false
   },
   "outputs": [
    {
     "name": "stdout",
     "output_type": "stream",
     "text": [
      "File 1.sec.gz is empty\n"
     ]
    }
   ],
   "source": [
    "#Enter the file path in the next line\n",
    "flist2 = [file for file in os.listdir('C:\\\\Users\\\\a\\\\Desktop\\\\Mohit Project\\\\Data to be read\\\\DATA\\\\May172018\\\\') if file.endswith('.sec.gz')]\n",
    "\n",
    "import  numpy\n",
    "timestamp = []\n",
    "flist_bad = []\n",
    "instrument = []\n",
    "symbol = []\n",
    "\n",
    "strike_price = []\n",
    "option_type = []\n",
    "\n",
    "\n",
    "\n",
    "\n",
    "\n",
    "for file in flist2:\n",
    "    i = 0\n",
    "    data_time = 0\n",
    "    expiry_date = []\n",
    "    scripCodes = list()\n",
    "    close = list()             \n",
    "    f = gzip.open('C:\\\\Users\\\\a\\\\Desktop\\\\Mohit Project\\\\Data to be read\\\\DATA\\\\May172018\\\\' + str(file) , 'rb') #Enter the file path\n",
    "    try:\n",
    "        b = bytearray(f.read())\n",
    "    except:\n",
    "        flist_bad.append(file)\n",
    "    f.close()\n",
    "    \n",
    "    #shutil.move(\"C:\\\\Users\\\\a\\\\Desktop\\\\Mohit Project\\\\Data to be read\\\\DATA\\\\May172018\\\\\"+str(file), \"C:\\\\Users\\\\a\\\\Desktop\\\\Mohit Project\\\\Data to be read\\\\DATA\\\\May172018\\\\Data read\\\\.sec files\")\n",
    "    while True:\n",
    "          \n",
    "        try:\n",
    "            \n",
    "            \n",
    "            data = struct.unpack('<hlhcl6s10s11s10s2s1s10s12s10s12s10s12s10s1s10s10s10s10s', b[i:i+170]) #Data structure\n",
    "            \n",
    "            \n",
    "            data_time = max(data[1], data_time)  # For getting time of data as max within file\n",
    "            #timestamp.append(data[1])\n",
    "            #instrument.append(bytes(data[5]).decode('ascii'))\n",
    "            #symbol.append(bytes(data[6]).decode('ascii'))\n",
    "            expiry_date.append(bytes(data[7]).decode('ascii'))\n",
    "            #strike_price.append(bytes(data[8]).decode('ascii'))\n",
    "            #option_type.append(bytes(data[9]).decode('ascii'))\n",
    "            if float(bytes(data[15]).strip()) ==0.00  or 0 or 0.0:\n",
    "                close.append(numpy.nan)\n",
    "                #print(\"Was nan\")\n",
    "                \n",
    "            else: \n",
    "                close.append(float((data[15]).strip()))\n",
    "            \n",
    "            scripCodes.append(data[4])\n",
    "              \n",
    "            \n",
    "            i += 225\n",
    "            \n",
    "            \n",
    "        except:\n",
    "            \n",
    "               \n",
    "            break\n",
    "    #Checking if the file is zero size \n",
    "    \n",
    "    \n",
    "    if len(close) == 0 :\n",
    "        \n",
    "        print(\"File {} is empty\".format(file))\n",
    "    #print(close)\n",
    "    rows= zip(scripCodes, close, expiry_date)\n",
    "    \n",
    "    import csv\n",
    "\n",
    "    \n",
    "\n",
    "    with open('C:\\\\Users\\\\a\\\\Desktop\\\\Mohit Project\\\\{}.csv'.format(file) , \"w\", newline = \"\") as f: #Enter the file path \n",
    "        \n",
    "        writer = csv.writer(f)\n",
    "        writer.writerow((\"SCRIP_CODE\",\"CLOSE\", \"EXPIRY_DT\"))\n",
    "        for row in rows:\n",
    "            writer.writerow(row)\n",
    "    f.close()\n",
    "\n"
   ]
  },
  {
   "cell_type": "markdown",
   "metadata": {},
   "source": [
    "# Combining '.sec' file and '.ind' file data into the master file\n"
   ]
  },
  {
   "cell_type": "code",
   "execution_count": 25,
   "metadata": {},
   "outputs": [
    {
     "data": {
      "text/plain": [
       "'C:\\\\Users\\\\a\\\\Desktop\\\\Mohit Project\\\\Data to be read\\\\DATA\\\\May172018'"
      ]
     },
     "execution_count": 25,
     "metadata": {},
     "output_type": "execute_result"
    }
   ],
   "source": [
    "os.getcwd()"
   ]
  },
  {
   "cell_type": "code",
   "execution_count": 26,
   "metadata": {},
   "outputs": [
    {
     "name": "stdout",
     "output_type": "stream",
     "text": [
      "['1.ind.gz', '2.ind.gz', '3.ind.gz', '4.ind.gz', '5.ind.gz', '6.ind.gz']\n"
     ]
    }
   ],
   "source": [
    "print(flist1)"
   ]
  },
  {
   "cell_type": "code",
   "execution_count": 27,
   "metadata": {},
   "outputs": [
    {
     "name": "stdout",
     "output_type": "stream",
     "text": [
      "['1.sec.gz', '2.sec.gz', '3.sec.gz', '4.sec.gz', '5.sec.gz', '6.sec.gz']\n"
     ]
    }
   ],
   "source": [
    "print(flist2)"
   ]
  },
  {
   "cell_type": "markdown",
   "metadata": {},
   "source": [
    "# Reading the .sec and .ind files in to dataframes"
   ]
  },
  {
   "cell_type": "code",
   "execution_count": 28,
   "metadata": {},
   "outputs": [],
   "source": [
    "os.chdir('C:\\\\Users\\\\a\\\\Desktop\\\\Mohit Project') #.sec file directory"
   ]
  },
  {
   "cell_type": "code",
   "execution_count": 29,
   "metadata": {},
   "outputs": [
    {
     "data": {
      "text/plain": [
       "['1.sec.gz.csv',\n",
       " '2.sec.gz.csv',\n",
       " '3.sec.gz.csv',\n",
       " '4.sec.gz.csv',\n",
       " '5.sec.gz.csv',\n",
       " '6.sec.gz.csv']"
      ]
     },
     "execution_count": 29,
     "metadata": {},
     "output_type": "execute_result"
    }
   ],
   "source": [
    "flist_ind = [file for file in os.listdir('C:\\\\Users\\\\a\\\\Desktop\\\\Mohit Project\\\\Files read') if file.endswith('.ind.gz.csv')]\n",
    "flist_sec = [file for file in os.listdir('C:\\\\Users\\\\a\\\\Desktop\\\\Mohit Project') if file.endswith('.sec.gz.csv')]\n",
    "flist_sec"
   ]
  },
  {
   "cell_type": "markdown",
   "metadata": {},
   "source": [
    "# Creating the list of ind and sec DataFrames"
   ]
  },
  {
   "cell_type": "code",
   "execution_count": 30,
   "metadata": {},
   "outputs": [
    {
     "data": {
      "text/plain": [
       "6"
      ]
     },
     "execution_count": 30,
     "metadata": {},
     "output_type": "execute_result"
    }
   ],
   "source": [
    "df_list_ind = []\n",
    "for file in flist_ind:\n",
    "    \n",
    "    df= pd.read_csv('C:\\\\Users\\\\a\\\\Desktop\\\\Mohit Project\\\\Files Read\\\\' + file )\n",
    "    df_list_ind.append(df)\n",
    "    \n",
    "len(df_list_ind)"
   ]
  },
  {
   "cell_type": "code",
   "execution_count": 31,
   "metadata": {},
   "outputs": [],
   "source": [
    "import numpy\n",
    "df_list_sec = []\n",
    "for file in flist_sec:\n",
    "    \n",
    "        df= pd.read_csv('C:\\\\Users\\\\a\\\\Desktop\\\\Mohit Project\\\\' +str(file))\n",
    "        df['CLOSE'].replace(0.00, numpy.nan , inplace = True)\n",
    "        \n",
    "        \n",
    "        df_list_sec.append(df)\n",
    "        \n",
    "        \n",
    "    #df_close_2.head()\n",
    "    \n"
   ]
  },
  {
   "cell_type": "markdown",
   "metadata": {},
   "source": [
    "# Merging the ind and sec DataFrames"
   ]
  },
  {
   "cell_type": "code",
   "execution_count": 32,
   "metadata": {},
   "outputs": [],
   "source": [
    "#Creating a single list of dataframes, by merging \n",
    "df_list = []\n",
    "for i in range(len(df_list_ind)):\n",
    "    df = pd.merge(df_list_ind[i],df_list_sec[i], on = 'SCRIP_CODE', how = 'outer')\n",
    "    \n",
    "    df.rename(columns = {'EXPIRY_DT_x':'EXPIRY_DT'}, inplace = True)\n",
    "    df.drop(['EXPIRY_DT_y'], axis = 1, inplace= True)\n",
    "    \n",
    "    \n",
    "    df_list.append(df)\n",
    "    \n",
    "    #print(df.head())\n"
   ]
  },
  {
   "cell_type": "markdown",
   "metadata": {},
   "source": [
    "# Code to calculate the average price from the preprocessed files."
   ]
  },
  {
   "cell_type": "code",
   "execution_count": 33,
   "metadata": {},
   "outputs": [
    {
     "name": "stdout",
     "output_type": "stream",
     "text": [
      "Count = 2\n",
      "Count = 3\n",
      "Count = 4\n",
      "Count = 5\n",
      "Count = 6\n"
     ]
    }
   ],
   "source": [
    "\n",
    "    \n",
    "\n",
    "count = 0\n",
    "for file in flist_ind:\n",
    "    \n",
    "    count = count + 1\n",
    "    if count == 1 :\n",
    "        if len(df_list_ind[count - 1]['OI']) == 0:\n",
    "            \n",
    "            df_list[count - 1] = bhavcopy_from_text\n",
    "            \n",
    "           \n",
    "            df_list[count-1] = df_list[count-1][df_list[count-1]['EXPIRY_DT'] > current_date] #remove the expired dates\n",
    "            df_list[count-1].rename(columns = {'CLOSE' : 'CLOSE'+ str(count), 'OI' : 'OI'+ str(count)}, inplace = True)\n",
    "            df_list[count-1]= df_list[count-1][df_list[count-1]['SCRIP_CODE'].isnull() == False] #removing empty scrip code rows\n",
    "            \n",
    "        if len(df_list_ind[count - 1]['OI'] )> 0:\n",
    "            \n",
    "            df_list[count - 1] = pd.concat([df_list[count - 1],bhavcopy_from_text]).drop_duplicates(subset=['SCRIP_CODE'], keep='last')\n",
    "            \n",
    "            \n",
    "            df_list[count-1] = df_list[count-1][df_list[count-1]['EXPIRY_DT'] > current_date] #remove the expired dates\n",
    "            df_list[count-1]= df_list[count-1][df_list[count-1]['SCRIP_CODE'].isnull() == False]\n",
    "            \n",
    "            df_list[count - 1].rename(columns = {'CLOSE' : 'CLOSE'+ str(count), 'OI' : 'OI'+ str(count)}, inplace = True)\n",
    "            df_list[count-1]= df_list[count-1][df_list[count-1]['SCRIP_CODE'].isnull() == False] #removing empty scrip code rows\n",
    "        \n",
    "        df_list[count - 1 ]['TOTAL_VAL'] = df_list[count-1]['CLOSE'+ str(count)] * df_list[count-1]['OI'+ str(count)]\n",
    "        master_file = df_list[count-1]\n",
    "        \n",
    "        \n",
    "        '''IF THE EXPIRED INSTRUMENTS ARE TO BE REMOVED UNHASH THE TWO LINES BELOW- STEP 1'''\n",
    "        \n",
    "        #master_file['EXPIRY_DT'] = master_file['EXPIRY_DT'].apply(lambda x: pd.to_datetime(x))\n",
    "        #master_file = master_file[master_file['EXPIRY_DT'] > current_date] #remove the expired dates\n",
    "        master_file.to_csv(str(count)+ '.csv')\n",
    "        \n",
    "    if count >1 :\n",
    "        print(\"Count = {}\".format(count))\n",
    "        master_file = pd.merge(master_file, df_list[count - 1], on = 'SCRIP_CODE' , how = 'outer')\n",
    "        \n",
    "        \n",
    "        master_file['EXPIRY_DT_x'].update(master_file['EXPIRY_DT_y'])\n",
    "        master_file.drop('EXPIRY_DT_y', axis = 1 , inplace = True)\n",
    "        master_file.rename(columns = {'EXPIRY_DT_x':'EXPIRY_DT'}, inplace = True)\n",
    "        \n",
    "        \n",
    "        '''Unhash the below lines if Expired instruments are to be removed- STEP 2'''\n",
    "        \n",
    "        #master_file['EXPIRY_DT'] = pd.to_datetime(master_file.EXPIRY_DT)\n",
    "        #master_file['EXPIRY_DT'] = master_file['EXPIRY_DT'].apply(lambda x: pd.to_datetime(x))\n",
    "        #master_file = master_file[master_file['EXPIRY_DT'] > current_date] #remove the expired dates\n",
    "        \n",
    "       \n",
    "        \n",
    "        \n",
    "            \n",
    "        \n",
    "           \n",
    "        \n",
    "        \n",
    "        master_file['CLOSE_new'] = master_file['CLOSE'+ str(count-1)].copy()\n",
    "        master_file['CLOSE_new'].update(master_file['CLOSE'])\n",
    "        master_file['CLOSE'] = master_file['CLOSE_new']\n",
    "        \n",
    "        \n",
    "        \n",
    "        \n",
    "       \n",
    "        \n",
    "        \n",
    "        master_file['OI_new'] = master_file['OI'+ str(count-1)]\n",
    "        master_file['OI_new'].update(master_file['OI'])\n",
    "        master_file['OI']  = master_file['OI_new']\n",
    "        \n",
    "        \n",
    "        \n",
    "        master_file.drop(['CLOSE_new','OI_new'], axis = 1 , inplace = True)\n",
    "  \n",
    "        \n",
    "        \n",
    "        master_file.rename(columns = {'CLOSE' : 'CLOSE'+ str(count), 'OI' : 'OI'+ str(count)}, inplace = True)\n",
    "        \n",
    "        master_file['CHG_IN_OI'+str(count)] = master_file['OI'+str(count)] -  master_file['OI'+str(count-1)]\n",
    "        master_file['NET_CHG_IN_VAL' + str(count)]   = master_file['CHG_IN_OI'+str(count)] * master_file['CLOSE'+ str(count)]  \n",
    "        if count == 2 :\n",
    "            master_file['NEW_NET_VAL'+str(count)] = master_file['TOTAL_VAL'] +master_file['NET_CHG_IN_VAL'+str(count)]\n",
    "        if count > 2: \n",
    "            master_file['NEW_NET_VAL'+str(count)] = master_file['NET_CHG_IN_VAL'+str(count)] +master_file['NET_CHG_IN_VAL'+str(count - 1 )]\n",
    "        master_file['AVG_PRICE' + str(count)] = master_file['NEW_NET_VAL'+str(count)] / master_file['OI'+str(count)]\n",
    "        master_file.to_csv(str(count)+ '.csv')   \n",
    "        \n",
    "        \n",
    "        \n",
    "        '''DROPPING REDUNDANT COLUMNS'''\n",
    "        \n",
    "        if count ==2:\n",
    "            \n",
    "            master_file.drop(['CLOSE'+str(count-1), 'OI' +str(count-1), 'TOTAL_VAL','CHG_IN_OI'+str(count),'NEW_NET_VAL'+str(count) ], axis = 1, inplace = True)\n",
    "            \n",
    "        if count > 2:\n",
    "            master_file.drop(['CLOSE'+str(count-1), 'OI' +str(count-1), 'AVG_PRICE' + str(count-1),'CHG_IN_OI'+ str(count), 'NET_CHG_IN_VAL'+ str(count-1), 'NEW_NET_VAL'+ str(count)],axis = 1 , inplace = True)\n",
    "        \n",
    "        \n",
    "    \n",
    "    "
   ]
  }
 ],
 "metadata": {
  "kernelspec": {
   "display_name": "Python 2",
   "language": "python",
   "name": "python2"
  },
  "language_info": {
   "codemirror_mode": {
    "name": "ipython",
    "version": 2
   },
   "file_extension": ".py",
   "mimetype": "text/x-python",
   "name": "python",
   "nbconvert_exporter": "python",
   "pygments_lexer": "ipython2",
   "version": "2.7.14"
  }
 },
 "nbformat": 4,
 "nbformat_minor": 2
}
